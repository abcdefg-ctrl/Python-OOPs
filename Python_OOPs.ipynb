{
  "nbformat": 4,
  "nbformat_minor": 0,
  "metadata": {
    "colab": {
      "provenance": [],
      "collapsed_sections": [
        "Rjvp32n4QNHf",
        "87JM_YaDdR4b"
      ]
    },
    "kernelspec": {
      "name": "python3",
      "display_name": "Python 3"
    },
    "language_info": {
      "name": "python"
    }
  },
  "cells": [
    {
      "cell_type": "markdown",
      "source": [
        "#Theory Questions"
      ],
      "metadata": {
        "id": "Rjvp32n4QNHf"
      }
    },
    {
      "cell_type": "markdown",
      "source": [
        "1. What is Object-Oriented Programming (OOP)?\n",
        "\n",
        " -> A programming paradigm based on the concept of \"objects\", which contain data (attributes) and methods (functions) that operate on the data.\n",
        "\n",
        "\n"
      ],
      "metadata": {
        "id": "NMrDT2QhQcNt"
      }
    },
    {
      "cell_type": "markdown",
      "source": [
        "2. What is a class in OOP?\n",
        "\n",
        " -> A blueprint for creating objects; it defines attributes and methods that the created objects (instances) will have.\n",
        "\n",
        "\n"
      ],
      "metadata": {
        "id": "aVzbp_OaRD3I"
      }
    },
    {
      "cell_type": "markdown",
      "source": [
        "3. What is an object in OOP?\n",
        "\n",
        " -> An instance of a class; it holds actual data and uses the methods defined in its class.\n"
      ],
      "metadata": {
        "id": "-U0kUJTnROrB"
      }
    },
    {
      "cell_type": "markdown",
      "source": [
        "\n",
        "\n",
        "4. What is the difference between abstraction and encapsulation?\n",
        "\n",
        "\n",
        "*   Abstraction hides complexity by showing only relevant details.\n",
        "*   Encapsulation restricts access to internal data by wrapping it with access control (using private/public/protected members).\n",
        "\n",
        "\n",
        "\n",
        "\n",
        "\n",
        "\n",
        "\n"
      ],
      "metadata": {
        "id": "w8I-9BdsRYZ1"
      }
    },
    {
      "cell_type": "markdown",
      "source": [
        " 5. What are dunder methods in Python?\n",
        "\n",
        "   -> Special methods with double underscores (e.g., __init__, __str__) that allow customization of built-in Python behavior.\n",
        "\n",
        "\n"
      ],
      "metadata": {
        "id": "_B0St95FR_pB"
      }
    },
    {
      "cell_type": "markdown",
      "source": [
        "6. Explain the concept of inheritance in OOP.\n",
        "\n",
        " -> A mechanism where a new class (child) derives attributes and behaviors from an existing class (parent), promoting code reuse."
      ],
      "metadata": {
        "id": "gBQSQ4l9SLAY"
      }
    },
    {
      "cell_type": "markdown",
      "source": [
        "7. What is polymorphism in OOP?\n",
        "\n",
        "  -> The ability to use a common interface for different data types or classes, e.g., the same method name behaving differently based on the object.\n",
        "\n",
        "\n"
      ],
      "metadata": {
        "id": "FtpGg562SVVR"
      }
    },
    {
      "cell_type": "markdown",
      "source": [
        "8. How is encapsulation achieved in Python?\n",
        "\n",
        "  -> Achieved using private (__var) and protected (_var) variables and public methods to access or modify them.\n",
        "\n",
        "\n"
      ],
      "metadata": {
        "id": "huye3wb6SgY8"
      }
    },
    {
      "cell_type": "markdown",
      "source": [
        "9. What is a constructor in Python?\n",
        "\n",
        " -> The __init__ method is a special method called automatically when a new object is created to initialize attributes.\n",
        "\n",
        "\n"
      ],
      "metadata": {
        "id": "or34TWjWSpgp"
      }
    },
    {
      "cell_type": "markdown",
      "source": [
        "10. What are class and static methods in Python?\n",
        "\n",
        "\n",
        "\n",
        "*   classmethod: Receives the class as its first argument (cls), can modify class state.\n",
        "*   staticmethod: Doesn’t receive an instance or class, behaves like a regular function inside a class.\n",
        "\n",
        "\n",
        "\n",
        "\n",
        "\n",
        "\n"
      ],
      "metadata": {
        "id": "ZTHcoI60S2Cs"
      }
    },
    {
      "cell_type": "markdown",
      "source": [
        "11. What is method overloading in Python?\n",
        "\n",
        " -> Python does not support traditional overloading; can be simulated using default arguments or variable arguments (*args, **kwargs).\n",
        "\n",
        "\n"
      ],
      "metadata": {
        "id": "I1Nj1Fy-TLE5"
      }
    },
    {
      "cell_type": "markdown",
      "source": [
        "12. What is method overriding in OOP?\n",
        "\n",
        " -> Redefining a method in a subclass that already exists in its parent class to change or extend its behavior.\n"
      ],
      "metadata": {
        "id": "zbQVYactTUSz"
      }
    },
    {
      "cell_type": "markdown",
      "source": [
        "13. What is a property decorator in Python?\n",
        "\n",
        "  -> property is used to define a method as a read-only attribute, often used for getter/setter logic.\n"
      ],
      "metadata": {
        "id": "Q3YgmgeMTfK1"
      }
    },
    {
      "cell_type": "markdown",
      "source": [
        "14. Why is polymorphism important in OOP?\n",
        "\n",
        "  -> It allows for flexible code where objects of different classes can be used interchangeably through a common interface.\n",
        "\n",
        "\n"
      ],
      "metadata": {
        "id": "frPQQgK4Tq2h"
      }
    },
    {
      "cell_type": "markdown",
      "source": [
        "15. What is an abstract class in Python?\n",
        "\n",
        "  -> A class that cannot be instantiated, defined using the abc module, and includes one or more abstract methods.\n",
        "\n",
        "\n"
      ],
      "metadata": {
        "id": "uvhsZedDTzDC"
      }
    },
    {
      "cell_type": "markdown",
      "source": [
        "16. What are the advantages of OOP?\n",
        "\n",
        "\n",
        "\n",
        "*   Modularity\n",
        "*   Code Reusability\n",
        "*   Scalability\n",
        "*   Maintainability\n",
        "*   Data Hiding\n",
        "\n",
        "\n",
        "\n",
        "\n",
        "\n",
        "\n",
        "\n",
        "\n",
        "\n",
        "\n",
        "\n",
        "\n",
        "\n",
        "\n",
        "\n",
        "\n"
      ],
      "metadata": {
        "id": "1uPQCI_6T64o"
      }
    },
    {
      "cell_type": "markdown",
      "source": [
        "17. What is the difference between a class variable and an instance variable?\n",
        "\n",
        "\n",
        "\n",
        "*   Class Variable: Shared among all instances.\n",
        "*   Instance Variable: Unique to each object.\n",
        "\n",
        "\n",
        "\n",
        "\n",
        "\n",
        "\n",
        "\n",
        "\n",
        "\n",
        "\n"
      ],
      "metadata": {
        "id": "otc1G9MCUg6R"
      }
    },
    {
      "cell_type": "markdown",
      "source": [
        "18. What is multiple inheritance in Python?\n",
        "\n",
        "  -> A class can inherit from more than one parent class, e.g., class C(A, B):, combining behaviors from both.\n",
        "\n",
        "\n"
      ],
      "metadata": {
        "id": "Wru6H3OPUy7V"
      }
    },
    {
      "cell_type": "markdown",
      "source": [
        "19. Explain the purpose of ‘’__str__’ and ‘__repr__’ ‘ methods in Python.\n",
        "\n",
        "\n",
        "\n",
        "*   __str__: User-friendly string representation (print()).\n",
        "*   __repr__: Developer-friendly, unambiguous representation, used in debugging.\n",
        "\n",
        "\n",
        "\n",
        "\n",
        "\n",
        "\n"
      ],
      "metadata": {
        "id": "Ko0Y8IK4U-oB"
      }
    },
    {
      "cell_type": "markdown",
      "source": [
        "20. What is the significance of the ‘super()’ function in Python?\n",
        "\n",
        " -> Used to call a method from the parent class, commonly in constructors to ensure proper initialization.\n",
        "\n",
        "\n"
      ],
      "metadata": {
        "id": "YT2i9qCpVSfI"
      }
    },
    {
      "cell_type": "markdown",
      "source": [
        "21. What is the significance of the __del__ method in Python?\n",
        "\n",
        " -> Destructor method called when an object is about to be destroyed; used for cleanup, but should be used carefully.\n",
        "\n",
        "\n"
      ],
      "metadata": {
        "id": "aPh98rnOVeOM"
      }
    },
    {
      "cell_type": "markdown",
      "source": [
        "22. What is the difference between @staticmethod and @classmethod in Python?\n",
        "\n",
        "\n",
        "\n",
        "*   @staticmethod: Doesn’t access class or instance.\n",
        "*   @classmethod: Accesses the class (cls) and can modify class state.\n",
        "\n",
        "\n",
        "\n",
        "\n",
        "\n",
        "\n",
        "\n"
      ],
      "metadata": {
        "id": "y4tuWhyoVl_5"
      }
    },
    {
      "cell_type": "markdown",
      "source": [
        "23. How does polymorphism work in Python with inheritance?\n",
        "\n",
        " -> Derived classes can override parent methods; the same method call behaves differently depending on the object’s class.\n"
      ],
      "metadata": {
        "id": "zsvc7G-3V6Te"
      }
    },
    {
      "cell_type": "markdown",
      "source": [
        "24. What is method chaining in Python OOP?\n",
        "\n",
        "  -> Calling multiple methods on the same object in a single line, enabled by returning self from each method."
      ],
      "metadata": {
        "id": "Z7D5JvnFWDzx"
      }
    },
    {
      "cell_type": "markdown",
      "source": [
        "25. What is the purpose of the __call__ method in Python?\n",
        "\n",
        "  -> Allows an object to be called like a function, making instances callable.\n",
        "\n",
        "\n",
        "\n"
      ],
      "metadata": {
        "id": "mh_cXooyWLhc"
      }
    },
    {
      "cell_type": "markdown",
      "source": [
        "#Practical Questions"
      ],
      "metadata": {
        "id": "87JM_YaDdR4b"
      }
    },
    {
      "cell_type": "code",
      "source": [
        "#1. Create a parent class Animal with a method speak() that prints a generic message. Create a child class Dog that overrides the speak() method to print \"Bark!\".\n",
        "'''\n",
        "class Animal:\n",
        "    def speak(self):\n",
        "        print(\"Animal speaks\")\n",
        "\n",
        "class Dog(Animal):\n",
        "    def speak(self):\n",
        "        print(\"Bark!\")\n",
        "\n",
        "Dog().speak()\n",
        "'''"
      ],
      "metadata": {
        "colab": {
          "base_uri": "https://localhost:8080/",
          "height": 36
        },
        "id": "y38jVLUnWnnI",
        "outputId": "6f1679e6-b1f5-437f-ecb2-f51f32caaff7"
      },
      "execution_count": 1,
      "outputs": [
        {
          "output_type": "execute_result",
          "data": {
            "text/plain": [
              "'\\nclass Animal:\\n    def speak(self):\\n        print(\"Animal speaks\")\\n\\nclass Dog(Animal):\\n    def speak(self):\\n        print(\"Bark!\")\\n\\nDog().speak()\\n'"
            ],
            "application/vnd.google.colaboratory.intrinsic+json": {
              "type": "string"
            }
          },
          "metadata": {},
          "execution_count": 1
        }
      ]
    },
    {
      "cell_type": "code",
      "source": [
        "#2. Write a program to create an abstract class Shape with a method area(). Derive classes Circle and Rectangle from it and implement the area() method in both.\n",
        "\n",
        "'''\n",
        "from abc import ABC, abstractmethod\n",
        "\n",
        "class Shape(ABC):\n",
        "    @abstractmethod\n",
        "    def area(self):\n",
        "        pass\n",
        "\n",
        "class Circle(Shape):\n",
        "    def __init__(self, radius):\n",
        "        self.radius = radius\n",
        "\n",
        "    def area(self):\n",
        "        return 3.14 * self.radius ** 2\n",
        "\n",
        "class Rectangle(Shape):\n",
        "    def __init__(self, length, width):\n",
        "        self.length = length\n",
        "        self.width = width\n",
        "\n",
        "    def area(self):\n",
        "        return self.length * self.width\n",
        "\n",
        "print(Circle(5).area())\n",
        "print(Rectangle(4, 6).area())\n",
        "'''"
      ],
      "metadata": {
        "colab": {
          "base_uri": "https://localhost:8080/",
          "height": 70
        },
        "id": "eOy87K-UXAlE",
        "outputId": "2d3eb85d-d9d9-4d9a-f2fb-b30dc36c69fc"
      },
      "execution_count": 2,
      "outputs": [
        {
          "output_type": "execute_result",
          "data": {
            "text/plain": [
              "'\\nfrom abc import ABC, abstractmethod\\n\\nclass Shape(ABC):\\n    @abstractmethod\\n    def area(self):\\n        pass\\n\\nclass Circle(Shape):\\n    def __init__(self, radius):\\n        self.radius = radius\\n\\n    def area(self):\\n        return 3.14 * self.radius ** 2\\n\\nclass Rectangle(Shape):\\n    def __init__(self, length, width):\\n        self.length = length\\n        self.width = width\\n\\n    def area(self):\\n        return self.length * self.width\\n\\nprint(Circle(5).area())\\nprint(Rectangle(4, 6).area())\\n'"
            ],
            "application/vnd.google.colaboratory.intrinsic+json": {
              "type": "string"
            }
          },
          "metadata": {},
          "execution_count": 2
        }
      ]
    },
    {
      "cell_type": "code",
      "source": [
        "# 3. Implement a multi-level inheritance scenario where a class Vehicle has an attribute type. Derive a class Car and further derive a class ElectricCar that adds a battery attribute.\n",
        "\n",
        "'''\n",
        "class Vehicle:\n",
        "    def __init__(self, type):\n",
        "        self.type = type\n",
        "\n",
        "class Car(Vehicle):\n",
        "    def __init__(self, type, model):\n",
        "        super().__init__(type)\n",
        "        self.model = model\n",
        "\n",
        "class ElectricCar(Car):\n",
        "    def __init__(self, type, model, battery):\n",
        "        super().__init__(type, model)\n",
        "        self.battery = battery\n",
        "\n",
        "e_car = ElectricCar(\"Electric\", \"Tesla\", \"100 kWh\")\n",
        "print(e_car.type, e_car.model, e_car.battery)\n",
        "'''"
      ],
      "metadata": {
        "colab": {
          "base_uri": "https://localhost:8080/",
          "height": 70
        },
        "id": "3X8HVgG_Xovd",
        "outputId": "49fc4285-d498-4a0f-90a1-0cff9e06e5e1"
      },
      "execution_count": 3,
      "outputs": [
        {
          "output_type": "execute_result",
          "data": {
            "text/plain": [
              "'\\nclass Vehicle:\\n    def __init__(self, type):\\n        self.type = type\\n\\nclass Car(Vehicle):\\n    def __init__(self, type, model):\\n        super().__init__(type)\\n        self.model = model\\n\\nclass ElectricCar(Car):\\n    def __init__(self, type, model, battery):\\n        super().__init__(type, model)\\n        self.battery = battery\\n\\ne_car = ElectricCar(\"Electric\", \"Tesla\", \"100 kWh\")\\nprint(e_car.type, e_car.model, e_car.battery)\\n'"
            ],
            "application/vnd.google.colaboratory.intrinsic+json": {
              "type": "string"
            }
          },
          "metadata": {},
          "execution_count": 3
        }
      ]
    },
    {
      "cell_type": "code",
      "source": [
        "#4. Demonstrate polymorphism by creating a base class Bird with a method fly(). Create two derived classes Sparrow and Penguin that override the fly() method.\n",
        "\n",
        "'''\n",
        "class Bird:\n",
        "    def fly(self):\n",
        "        print(\"Some birds can fly\")\n",
        "\n",
        "class Sparrow(Bird):\n",
        "    def fly(self):\n",
        "        print(\"Sparrow flies high\")\n",
        "\n",
        "class Penguin(Bird):\n",
        "    def fly(self):\n",
        "        print(\"Penguins can't fly\")\n",
        "\n",
        "for bird in [Sparrow(), Penguin()]:\n",
        "    bird.fly()\n",
        "'''"
      ],
      "metadata": {
        "colab": {
          "base_uri": "https://localhost:8080/",
          "height": 53
        },
        "id": "16tNNUFIXojn",
        "outputId": "04fd70fc-27d4-4e4d-ed37-f42cdffc112d"
      },
      "execution_count": 4,
      "outputs": [
        {
          "output_type": "execute_result",
          "data": {
            "text/plain": [
              "'\\nclass Bird:\\n    def fly(self):\\n        print(\"Some birds can fly\")\\n\\nclass Sparrow(Bird):\\n    def fly(self):\\n        print(\"Sparrow flies high\")\\n\\nclass Penguin(Bird):\\n    def fly(self):\\n        print(\"Penguins can\\'t fly\")\\n\\nfor bird in [Sparrow(), Penguin()]:\\n    bird.fly()\\n'"
            ],
            "application/vnd.google.colaboratory.intrinsic+json": {
              "type": "string"
            }
          },
          "metadata": {},
          "execution_count": 4
        }
      ]
    },
    {
      "cell_type": "code",
      "source": [
        "#5. Write a program to demonstrate encapsulation by creating a class BankAccount with private attributes balance and methods to deposit, withdraw, and check balance.\n",
        "\n",
        "'''\n",
        "class BankAccount:\n",
        "    def __init__(self):\n",
        "        self.__balance = 0\n",
        "\n",
        "    def deposit(self, amount):\n",
        "        self.__balance += amount\n",
        "\n",
        "    def withdraw(self, amount):\n",
        "        if amount <= self.__balance:\n",
        "            self.__balance -= amount\n",
        "\n",
        "    def get_balance(self):\n",
        "        return self.__balance\n",
        "\n",
        "acc = BankAccount()\n",
        "acc.deposit(1000)\n",
        "acc.withdraw(300)\n",
        "print(acc.get_balance())\n",
        "'''"
      ],
      "metadata": {
        "colab": {
          "base_uri": "https://localhost:8080/",
          "height": 70
        },
        "id": "BIJCR8_9XoWa",
        "outputId": "1d319ac7-f3e7-4e17-bb13-29c99dfcfb3f"
      },
      "execution_count": 5,
      "outputs": [
        {
          "output_type": "execute_result",
          "data": {
            "text/plain": [
              "'\\nclass BankAccount:\\n    def __init__(self):\\n        self.__balance = 0\\n\\n    def deposit(self, amount):\\n        self.__balance += amount\\n\\n    def withdraw(self, amount):\\n        if amount <= self.__balance:\\n            self.__balance -= amount\\n\\n    def get_balance(self):\\n        return self.__balance\\n\\nacc = BankAccount()\\nacc.deposit(1000)\\nacc.withdraw(300)\\nprint(acc.get_balance())\\n'"
            ],
            "application/vnd.google.colaboratory.intrinsic+json": {
              "type": "string"
            }
          },
          "metadata": {},
          "execution_count": 5
        }
      ]
    },
    {
      "cell_type": "code",
      "source": [
        "#6. Demonstrate runtime polymorphism using a method play() in a base class Instrument. Derive classes Guitar and Piano that implement their own version of play().\n",
        "\n",
        "'''\n",
        "class Instrument:\n",
        "    def play(self):\n",
        "        print(\"Playing instrument\")\n",
        "\n",
        "class Guitar(Instrument):\n",
        "    def play(self):\n",
        "        print(\"Playing guitar\")\n",
        "\n",
        "class Piano(Instrument):\n",
        "    def play(self):\n",
        "        print(\"Playing piano\")\n",
        "\n",
        "for inst in [Guitar(), Piano()]:\n",
        "    inst.play()\n",
        "'''"
      ],
      "metadata": {
        "colab": {
          "base_uri": "https://localhost:8080/",
          "height": 53
        },
        "id": "7Labv3VtYYN5",
        "outputId": "52ab8d71-6f9e-417b-b1d4-c2369518239b"
      },
      "execution_count": 6,
      "outputs": [
        {
          "output_type": "execute_result",
          "data": {
            "text/plain": [
              "'\\nclass Instrument:\\n    def play(self):\\n        print(\"Playing instrument\")\\n\\nclass Guitar(Instrument):\\n    def play(self):\\n        print(\"Playing guitar\")\\n\\nclass Piano(Instrument):\\n    def play(self):\\n        print(\"Playing piano\")\\n\\nfor inst in [Guitar(), Piano()]:\\n    inst.play()\\n'"
            ],
            "application/vnd.google.colaboratory.intrinsic+json": {
              "type": "string"
            }
          },
          "metadata": {},
          "execution_count": 6
        }
      ]
    },
    {
      "cell_type": "code",
      "source": [
        "#7. Create a class MathOperations with a class method add_numbers() to add two numbers and a static method subtract_numbers() to subtract two numbers.\n",
        "\n",
        "'''\n",
        "class MathOperations:\n",
        "    @classmethod\n",
        "    def add_numbers(cls, a, b):\n",
        "        return a + b\n",
        "\n",
        "    @staticmethod\n",
        "    def subtract_numbers(a, b):\n",
        "        return a - b\n",
        "\n",
        "print(MathOperations.add_numbers(5, 3))\n",
        "print(MathOperations.subtract_numbers(5, 3))\n",
        "'''"
      ],
      "metadata": {
        "colab": {
          "base_uri": "https://localhost:8080/",
          "height": 53
        },
        "id": "wuB6NKiwYYE8",
        "outputId": "a0c13405-f417-4cea-b5ee-c1656d4df275"
      },
      "execution_count": 7,
      "outputs": [
        {
          "output_type": "execute_result",
          "data": {
            "text/plain": [
              "'\\nclass MathOperations:\\n    @classmethod\\n    def add_numbers(cls, a, b):\\n        return a + b\\n\\n    @staticmethod\\n    def subtract_numbers(a, b):\\n        return a - b\\n\\nprint(MathOperations.add_numbers(5, 3))\\nprint(MathOperations.subtract_numbers(5, 3))\\n'"
            ],
            "application/vnd.google.colaboratory.intrinsic+json": {
              "type": "string"
            }
          },
          "metadata": {},
          "execution_count": 7
        }
      ]
    },
    {
      "cell_type": "code",
      "source": [
        "#8. Implement a class Person with a class method to count the total number of persons created.\n",
        "\n",
        "'''\n",
        "class Person:\n",
        "    count = 0\n",
        "\n",
        "    def __init__(self, name):\n",
        "        self.name = name\n",
        "        Person.count += 1\n",
        "\n",
        "    @classmethod\n",
        "    def total_persons(cls):\n",
        "        return cls.count\n",
        "\n",
        "p1 = Person(\"Alice\")\n",
        "p2 = Person(\"Bob\")\n",
        "print(Person.total_persons())\n",
        "'''"
      ],
      "metadata": {
        "colab": {
          "base_uri": "https://localhost:8080/",
          "height": 53
        },
        "id": "r8rJWMc9YX6v",
        "outputId": "0c9b28d4-56c1-4933-8f61-428eb5ae5657"
      },
      "execution_count": 8,
      "outputs": [
        {
          "output_type": "execute_result",
          "data": {
            "text/plain": [
              "'\\nclass Person:\\n    count = 0\\n\\n    def __init__(self, name):\\n        self.name = name\\n        Person.count += 1\\n\\n    @classmethod\\n    def total_persons(cls):\\n        return cls.count\\n\\np1 = Person(\"Alice\")\\np2 = Person(\"Bob\")\\nprint(Person.total_persons())\\n'"
            ],
            "application/vnd.google.colaboratory.intrinsic+json": {
              "type": "string"
            }
          },
          "metadata": {},
          "execution_count": 8
        }
      ]
    },
    {
      "cell_type": "code",
      "source": [
        "#9. Write a class Fraction with attributes numerator and denominator. Override the str method to display the fraction as \"numerator/denominator\".\n",
        "\n",
        "'''\n",
        "class Fraction:\n",
        "    def __init__(self, numerator, denominator):\n",
        "        self.numerator = numerator\n",
        "        self.denominator = denominator\n",
        "\n",
        "    def __str__(self):\n",
        "        return f\"{self.numerator}/{self.denominator}\"\n",
        "\n",
        "print(Fraction(3, 4))\n",
        "'''"
      ],
      "metadata": {
        "colab": {
          "base_uri": "https://localhost:8080/",
          "height": 53
        },
        "id": "nh7l9jFuYXwr",
        "outputId": "a665ea02-bdaa-4c2c-d24d-5b2fa75215cd"
      },
      "execution_count": 9,
      "outputs": [
        {
          "output_type": "execute_result",
          "data": {
            "text/plain": [
              "'\\nclass Fraction:\\n    def __init__(self, numerator, denominator):\\n        self.numerator = numerator\\n        self.denominator = denominator\\n\\n    def __str__(self):\\n        return f\"{self.numerator}/{self.denominator}\"\\n\\nprint(Fraction(3, 4))\\n'"
            ],
            "application/vnd.google.colaboratory.intrinsic+json": {
              "type": "string"
            }
          },
          "metadata": {},
          "execution_count": 9
        }
      ]
    },
    {
      "cell_type": "code",
      "source": [
        "#10. Demonstrate operator overloading by creating a class Vector and overriding the add method to add two vectors.\n",
        "\n",
        "'''\n",
        "class Vector:\n",
        "    def __init__(self, x, y):\n",
        "        self.x = x\n",
        "        self.y = y\n",
        "\n",
        "    def __add__(self, other):\n",
        "        return Vector(self.x + other.x, self.y + other.y)\n",
        "\n",
        "    def __str__(self):\n",
        "        return f\"({self.x}, {self.y})\"\n",
        "\n",
        "v1 = Vector(2, 3)\n",
        "v2 = Vector(1, 1)\n",
        "print(v1 + v2)\n",
        "'''"
      ],
      "metadata": {
        "colab": {
          "base_uri": "https://localhost:8080/",
          "height": 53
        },
        "id": "fMgAWROxYXm1",
        "outputId": "fe86826c-d929-401c-f213-9fca26670de4"
      },
      "execution_count": 10,
      "outputs": [
        {
          "output_type": "execute_result",
          "data": {
            "text/plain": [
              "'\\nclass Vector:\\n    def __init__(self, x, y):\\n        self.x = x\\n        self.y = y\\n\\n    def __add__(self, other):\\n        return Vector(self.x + other.x, self.y + other.y)\\n\\n    def __str__(self):\\n        return f\"({self.x}, {self.y})\"\\n\\nv1 = Vector(2, 3)\\nv2 = Vector(1, 1)\\nprint(v1 + v2)\\n'"
            ],
            "application/vnd.google.colaboratory.intrinsic+json": {
              "type": "string"
            }
          },
          "metadata": {},
          "execution_count": 10
        }
      ]
    },
    {
      "cell_type": "code",
      "source": [
        "# 11. Create a class Person with attributes name and age. Add a method greet() that prints \"Hello, my name is {name} and I am {age} years old.\"\n",
        "\n",
        "'''\n",
        "class Person:\n",
        "    def __init__(self, name, age):\n",
        "        self.name = name\n",
        "        self.age = age\n",
        "\n",
        "    def greet(self):\n",
        "        print(f\"Hello, my name is {self.name} and I am {self.age} years old.\")\n",
        "\n",
        "Person(\"John\", 25).greet()\n",
        "'''"
      ],
      "metadata": {
        "colab": {
          "base_uri": "https://localhost:8080/",
          "height": 53
        },
        "id": "ASpvyuVRXn82",
        "outputId": "d94b0ab0-a43b-4dae-9de6-9f5625687264"
      },
      "execution_count": 11,
      "outputs": [
        {
          "output_type": "execute_result",
          "data": {
            "text/plain": [
              "'\\nclass Person:\\n    def __init__(self, name, age):\\n        self.name = name\\n        self.age = age\\n\\n    def greet(self):\\n        print(f\"Hello, my name is {self.name} and I am {self.age} years old.\")\\n\\nPerson(\"John\", 25).greet()\\n'"
            ],
            "application/vnd.google.colaboratory.intrinsic+json": {
              "type": "string"
            }
          },
          "metadata": {},
          "execution_count": 11
        }
      ]
    },
    {
      "cell_type": "code",
      "source": [
        "# 12. Implement a class Student with attributes name and grades. Create a method average_grade() to compute the average of the grades.\n",
        "\n",
        "'''\n",
        "class Student:\n",
        "    def __init__(self, name, grades):\n",
        "        self.name = name\n",
        "        self.grades = grades\n",
        "\n",
        "    def average_grade(self):\n",
        "        return sum(self.grades) / len(self.grades)\n",
        "\n",
        "print(Student(\"Emma\", [90, 85, 92]).average_grade())\n",
        "'''"
      ],
      "metadata": {
        "colab": {
          "base_uri": "https://localhost:8080/",
          "height": 53
        },
        "id": "gyv5JJ_tZqkH",
        "outputId": "fb50cfa7-09ae-4b86-d59e-a5602babef43"
      },
      "execution_count": 12,
      "outputs": [
        {
          "output_type": "execute_result",
          "data": {
            "text/plain": [
              "'\\nclass Student:\\n    def __init__(self, name, grades):\\n        self.name = name\\n        self.grades = grades\\n\\n    def average_grade(self):\\n        return sum(self.grades) / len(self.grades)\\n\\nprint(Student(\"Emma\", [90, 85, 92]).average_grade())\\n'"
            ],
            "application/vnd.google.colaboratory.intrinsic+json": {
              "type": "string"
            }
          },
          "metadata": {},
          "execution_count": 12
        }
      ]
    },
    {
      "cell_type": "code",
      "source": [
        "# 13. Create a class Rectangle with methods set_dimensions() to set the dimensions and area() to calculate the area.\n",
        "\n",
        "'''\n",
        "class Rectangle:\n",
        "    def set_dimensions(self, length, width):\n",
        "        self.length = length\n",
        "        self.width = width\n",
        "\n",
        "    def area(self):\n",
        "        return self.length * self.width\n",
        "\n",
        "r = Rectangle()\n",
        "r.set_dimensions(5, 3)\n",
        "print(r.area())\n",
        "'''"
      ],
      "metadata": {
        "colab": {
          "base_uri": "https://localhost:8080/",
          "height": 53
        },
        "id": "CgRreGfkZqda",
        "outputId": "bf7a1072-ae18-4f72-d4bf-a5e62f919ede"
      },
      "execution_count": 13,
      "outputs": [
        {
          "output_type": "execute_result",
          "data": {
            "text/plain": [
              "'\\nclass Rectangle:\\n    def set_dimensions(self, length, width):\\n        self.length = length\\n        self.width = width\\n\\n    def area(self):\\n        return self.length * self.width\\n\\nr = Rectangle()\\nr.set_dimensions(5, 3)\\nprint(r.area())\\n'"
            ],
            "application/vnd.google.colaboratory.intrinsic+json": {
              "type": "string"
            }
          },
          "metadata": {},
          "execution_count": 13
        }
      ]
    },
    {
      "cell_type": "code",
      "source": [
        "# 14. Create a class Employee with a method calculate_salary() that computes the salary based on hours worked and hourly rate. Create a derived class Manager that adds a bonus to the salary.\n",
        "\n",
        "'''\n",
        "class Employee:\n",
        "    def calculate_salary(self, hours, rate):\n",
        "        return hours * rate\n",
        "\n",
        "class Manager(Employee):\n",
        "    def calculate_salary(self, hours, rate, bonus):\n",
        "        return super().calculate_salary(hours, rate) + bonus\n",
        "\n",
        "print(Manager().calculate_salary(40, 20, 500))\n",
        "'''"
      ],
      "metadata": {
        "colab": {
          "base_uri": "https://localhost:8080/",
          "height": 53
        },
        "id": "eCuk5CU-ZqYC",
        "outputId": "ba198aeb-482c-4304-afbb-86666c6cfc4b"
      },
      "execution_count": 14,
      "outputs": [
        {
          "output_type": "execute_result",
          "data": {
            "text/plain": [
              "'\\nclass Employee:\\n    def calculate_salary(self, hours, rate):\\n        return hours * rate\\n\\nclass Manager(Employee):\\n    def calculate_salary(self, hours, rate, bonus):\\n        return super().calculate_salary(hours, rate) + bonus\\n\\nprint(Manager().calculate_salary(40, 20, 500))\\n'"
            ],
            "application/vnd.google.colaboratory.intrinsic+json": {
              "type": "string"
            }
          },
          "metadata": {},
          "execution_count": 14
        }
      ]
    },
    {
      "cell_type": "code",
      "source": [
        "#15. Create a class Product with attributes name, price, and quantity. Implement a method total_price() that calculates the total price of the product.\n",
        "\n",
        "'''\n",
        "class Product:\n",
        "    def __init__(self, name, price, quantity):\n",
        "        self.name = name\n",
        "        self.price = price\n",
        "        self.quantity = quantity\n",
        "\n",
        "    def total_price(self):\n",
        "        return self.price * self.quantity\n",
        "\n",
        "print(Product(\"Pen\", 10, 5).total_price())\n",
        "'''"
      ],
      "metadata": {
        "colab": {
          "base_uri": "https://localhost:8080/",
          "height": 53
        },
        "id": "ESomGpxPZqS8",
        "outputId": "fa2ba8f9-baee-4822-93cd-ae1dd85ec42c"
      },
      "execution_count": 15,
      "outputs": [
        {
          "output_type": "execute_result",
          "data": {
            "text/plain": [
              "'\\nclass Product:\\n    def __init__(self, name, price, quantity):\\n        self.name = name\\n        self.price = price\\n        self.quantity = quantity\\n\\n    def total_price(self):\\n        return self.price * self.quantity\\n\\nprint(Product(\"Pen\", 10, 5).total_price())\\n'"
            ],
            "application/vnd.google.colaboratory.intrinsic+json": {
              "type": "string"
            }
          },
          "metadata": {},
          "execution_count": 15
        }
      ]
    },
    {
      "cell_type": "code",
      "source": [
        "#16. Create a class Animal with an abstract method sound(). Create two derived classes Cow and Sheep that implement the sound() method.\n",
        "\n",
        "'''\n",
        "from abc import ABC, abstractmethod\n",
        "\n",
        "class Animal(ABC):\n",
        "    @abstractmethod\n",
        "    def sound(self):\n",
        "        pass\n",
        "\n",
        "class Cow(Animal):\n",
        "    def sound(self):\n",
        "        print(\"Moo\")\n",
        "\n",
        "class Sheep(Animal):\n",
        "    def sound(self):\n",
        "        print(\"Baa\")\n",
        "\n",
        "Cow().sound()\n",
        "Sheep().sound()\n",
        "'''"
      ],
      "metadata": {
        "colab": {
          "base_uri": "https://localhost:8080/",
          "height": 53
        },
        "id": "8XQnusWHZqLG",
        "outputId": "88d64ce3-405d-40a6-bb1a-c1d247bdda31"
      },
      "execution_count": 16,
      "outputs": [
        {
          "output_type": "execute_result",
          "data": {
            "text/plain": [
              "'\\nfrom abc import ABC, abstractmethod\\n\\nclass Animal(ABC):\\n    @abstractmethod\\n    def sound(self):\\n        pass\\n\\nclass Cow(Animal):\\n    def sound(self):\\n        print(\"Moo\")\\n\\nclass Sheep(Animal):\\n    def sound(self):\\n        print(\"Baa\")\\n\\nCow().sound()\\nSheep().sound()\\n'"
            ],
            "application/vnd.google.colaboratory.intrinsic+json": {
              "type": "string"
            }
          },
          "metadata": {},
          "execution_count": 16
        }
      ]
    },
    {
      "cell_type": "code",
      "source": [
        "# 17. Create a class Book with attributes title, author, and year_published. Add a method get_book_info() that returns a formatted string with the book's details.\n",
        "\n",
        "'''\n",
        "class Book:\n",
        "    def __init__(self, title, author, year_published):\n",
        "        self.title = title\n",
        "        self.author = author\n",
        "        self.year_published = year_published\n",
        "\n",
        "    def get_book_info(self):\n",
        "        return f\"{self.title} by {self.author}, published in {self.year_published}\"\n",
        "\n",
        "print(Book(\"1984\", \"George Orwell\", 1949).get_book_info())\n",
        "'''"
      ],
      "metadata": {
        "colab": {
          "base_uri": "https://localhost:8080/",
          "height": 53
        },
        "id": "hdbTI-tWcykl",
        "outputId": "744d35ce-a531-4e3c-9d5e-fd2d87005aa5"
      },
      "execution_count": 17,
      "outputs": [
        {
          "output_type": "execute_result",
          "data": {
            "text/plain": [
              "'\\nclass Book:\\n    def __init__(self, title, author, year_published):\\n        self.title = title\\n        self.author = author\\n        self.year_published = year_published\\n\\n    def get_book_info(self):\\n        return f\"{self.title} by {self.author}, published in {self.year_published}\"\\n\\nprint(Book(\"1984\", \"George Orwell\", 1949).get_book_info())\\n'"
            ],
            "application/vnd.google.colaboratory.intrinsic+json": {
              "type": "string"
            }
          },
          "metadata": {},
          "execution_count": 17
        }
      ]
    },
    {
      "cell_type": "code",
      "execution_count": 18,
      "metadata": {
        "colab": {
          "base_uri": "https://localhost:8080/",
          "height": 70
        },
        "id": "Wak4TBMYPlOX",
        "outputId": "2ea2966f-dd76-4023-c2b0-26a8bd45421d"
      },
      "outputs": [
        {
          "output_type": "execute_result",
          "data": {
            "text/plain": [
              "'\\nclass House:\\n    def __init__(self, address, price):\\n        self.address = address\\n        self.price = price\\n\\nclass Mansion(House):\\n    def __init__(self, address, price, number_of_rooms):\\n        super().__init__(address, price)\\n        self.number_of_rooms = number_of_rooms\\n\\nm = Mansion(\"123 Rich St\", 5000000, 20)\\nprint(m.address, m.price, m.number_of_rooms)\\n'"
            ],
            "application/vnd.google.colaboratory.intrinsic+json": {
              "type": "string"
            }
          },
          "metadata": {},
          "execution_count": 18
        }
      ],
      "source": [
        "# 18. Create a class House with attributes address and price. Create a derived class Mansion that adds an attribute number_of_rooms.\n",
        "\n",
        "'''\n",
        "class House:\n",
        "    def __init__(self, address, price):\n",
        "        self.address = address\n",
        "        self.price = price\n",
        "\n",
        "class Mansion(House):\n",
        "    def __init__(self, address, price, number_of_rooms):\n",
        "        super().__init__(address, price)\n",
        "        self.number_of_rooms = number_of_rooms\n",
        "\n",
        "m = Mansion(\"123 Rich St\", 5000000, 20)\n",
        "print(m.address, m.price, m.number_of_rooms)\n",
        "'''"
      ]
    }
  ]
}